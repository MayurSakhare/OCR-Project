{
 "cells": [
  {
   "cell_type": "code",
   "execution_count": 1,
   "id": "ea9d6baa",
   "metadata": {},
   "outputs": [],
   "source": [
    "import pytesseract\n",
    "from PIL import Image\n"
   ]
  },
  {
   "cell_type": "code",
   "execution_count": 2,
   "id": "a1a9b821",
   "metadata": {},
   "outputs": [
    {
     "name": "stdout",
     "output_type": "stream",
     "text": [
      "Requirement already satisfied: pytesseract in c:\\users\\vishu\\appdata\\local\\programs\\python\\python311\\lib\\site-packages (0.3.10)\n",
      "Requirement already satisfied: packaging>=21.3 in c:\\users\\vishu\\appdata\\local\\programs\\python\\python311\\lib\\site-packages (from pytesseract) (21.3)\n",
      "Requirement already satisfied: Pillow>=8.0.0 in c:\\users\\vishu\\appdata\\local\\programs\\python\\python311\\lib\\site-packages (from pytesseract) (9.3.0)\n",
      "Requirement already satisfied: pyparsing!=3.0.5,>=2.0.2 in c:\\users\\vishu\\appdata\\local\\programs\\python\\python311\\lib\\site-packages (from packaging>=21.3->pytesseract) (3.0.9)\n"
     ]
    }
   ],
   "source": [
    "!pip install pytesseract"
   ]
  },
  {
   "cell_type": "code",
   "execution_count": 3,
   "id": "d56502ce",
   "metadata": {},
   "outputs": [],
   "source": [
    "pytesseract.pytesseract.tesseract_cmd = r'C:\\Program Files\\Tesseract-OCR\\tesseract.exe'"
   ]
  },
  {
   "cell_type": "code",
   "execution_count": 6,
   "id": "7e2f6e90",
   "metadata": {},
   "outputs": [
    {
     "name": "stdout",
     "output_type": "stream",
     "text": [
      "<PIL.PngImagePlugin.PngImageFile image mode=RGB size=600x315 at 0x1F3AD5E9810>\n",
      " \n",
      "************************************************************************************************* \n",
      " \n"
     ]
    }
   ],
   "source": [
    "img = Image.open('C:\\\\vishal-19-11-2022\\\\images\\\\download12.jpg')\n",
    "print(img)\n",
    "print(\" \")\n",
    "print(\"************************************************************************************************* \")\n",
    "print(\" \")"
   ]
  },
  {
   "cell_type": "code",
   "execution_count": 7,
   "id": "fbfe3fde",
   "metadata": {},
   "outputs": [
    {
     "name": "stdout",
     "output_type": "stream",
     "text": [
      "ONLINE JPG TOOLS\n",
      "\n",
      "A collection of simple, free, and\n",
      "easy to use JPG editing utilities\n",
      "www.onlineJPGtools.com\n",
      "\n",
      "created by ©> browserling\n",
      "\n"
     ]
    }
   ],
   "source": [
    "text = pytesseract.image_to_string(img)\n",
    "print(text)"
   ]
  },
  {
   "cell_type": "code",
   "execution_count": 10,
   "id": "d673bf29",
   "metadata": {},
   "outputs": [
    {
     "name": "stdout",
     "output_type": "stream",
     "text": [
      "original text: ONLINE JPG TOOLS\n",
      "\n",
      "A collection of simple, free, and\n",
      "easy to use JPG editing utilities\n",
      "www.onlineJPGtools.com\n",
      "\n",
      "created by ©> browserling\n",
      "\n",
      " \n",
      "***********************************************************************************************************************\n",
      " \n",
      "corrected text: ONLINE JPG TOOLS\n",
      "\n",
      "A collection of simple, free, and\n",
      "easy to use JPG editing utilities\n",
      "www.onlineJPGtools.com\n",
      "\n",
      "created by ©> browserling\n",
      "\n"
     ]
    }
   ],
   "source": [
    "\n",
    "\n",
    "from textblob import TextBlob\n",
    " \n",
    "a =  text        # incorrect spelling\n",
    "print(\"original text: \"+str(a))\n",
    "print(\" \")\n",
    "print(\"***********************************************************************************************************************\")\n",
    "print(\" \")\n",
    " \n",
    "b = TextBlob(a)\n",
    " \n",
    "# prints the corrected spelling\n",
    "print(\"corrected text: \"+str(b.correct()))"
   ]
  },
  {
   "cell_type": "code",
   "execution_count": 9,
   "id": "c2f778ce",
   "metadata": {},
   "outputs": [
    {
     "name": "stdout",
     "output_type": "stream",
     "text": [
      "Collecting textblob\n",
      "  Downloading textblob-0.17.1-py2.py3-none-any.whl (636 kB)\n",
      "     -------------------------------------- 636.8/636.8 kB 7.9 MB/s eta 0:00:00\n",
      "Collecting nltk>=3.1\n",
      "  Downloading nltk-3.7-py3-none-any.whl (1.5 MB)\n",
      "     ---------------------------------------- 1.5/1.5 MB 6.3 MB/s eta 0:00:00\n",
      "Collecting click\n",
      "  Downloading click-8.1.3-py3-none-any.whl (96 kB)\n",
      "     ---------------------------------------- 96.6/96.6 kB 5.4 MB/s eta 0:00:00\n",
      "Collecting joblib\n",
      "  Downloading joblib-1.2.0-py3-none-any.whl (297 kB)\n",
      "     -------------------------------------- 298.0/298.0 kB 9.3 MB/s eta 0:00:00\n",
      "Collecting regex>=2021.8.3\n",
      "  Downloading regex-2022.10.31-cp311-cp311-win_amd64.whl (267 kB)\n",
      "     ------------------------------------- 267.7/267.7 kB 16.1 MB/s eta 0:00:00\n",
      "Collecting tqdm\n",
      "  Downloading tqdm-4.64.1-py2.py3-none-any.whl (78 kB)\n",
      "     ---------------------------------------- 78.5/78.5 kB 4.5 MB/s eta 0:00:00\n",
      "Requirement already satisfied: colorama in c:\\users\\vishu\\appdata\\local\\programs\\python\\python311\\lib\\site-packages (from click->nltk>=3.1->textblob) (0.4.6)\n",
      "Installing collected packages: tqdm, regex, joblib, click, nltk, textblob\n",
      "Successfully installed click-8.1.3 joblib-1.2.0 nltk-3.7 regex-2022.10.31 textblob-0.17.1 tqdm-4.64.1\n"
     ]
    }
   ],
   "source": [
    "! pip install textblob"
   ]
  },
  {
   "cell_type": "code",
   "execution_count": 11,
   "id": "b5380602",
   "metadata": {},
   "outputs": [
    {
     "name": "stdout",
     "output_type": "stream",
     "text": [
      "<PIL.PngImagePlugin.PngImageFile image mode=RGB size=600x315 at 0x1F3AFDC4190>\n",
      " \n",
      "************************************************************************************************* \n",
      " \n"
     ]
    }
   ],
   "source": [
    "img1 = Image.open('C:\\\\vishal-19-11-2022\\\\images\\\\download12.jpg')\n",
    "print(img1)\n",
    "print(\" \")\n",
    "print(\"************************************************************************************************* \")\n",
    "print(\" \")"
   ]
  },
  {
   "cell_type": "code",
   "execution_count": 12,
   "id": "31ed9a2d",
   "metadata": {},
   "outputs": [],
   "source": [
    "text1 = pytesseract.image_to_string(img1)"
   ]
  },
  {
   "cell_type": "code",
   "execution_count": 54,
   "id": "a71b6ccb",
   "metadata": {},
   "outputs": [
    {
     "name": "stdout",
     "output_type": "stream",
     "text": [
      "ONLINE JPG TOOLS\n",
      "\n",
      "A collection of simple, free, and\n",
      "easy to use JPG editing utilities\n",
      "www.onlineJPGtools.com\n",
      "\n",
      "created by ©> browserling\n",
      "\n"
     ]
    }
   ],
   "source": [
    "print(text1)"
   ]
  },
  {
   "cell_type": "code",
   "execution_count": 14,
   "id": "fd678eb1",
   "metadata": {},
   "outputs": [
    {
     "name": "stdout",
     "output_type": "stream",
     "text": [
      "<PIL.JpegImagePlugin.JpegImageFile image mode=RGB size=284x177 at 0x1F3AFFDC390>\n",
      " \n",
      "************************************************************************************************* \n",
      " \n",
      "‘HowTo Convert POF\n",
      "To Image (PNG, JPEG)\n",
      "\n",
      "Using GIMP\n",
      "Or pdftoppm (CLI)\n",
      "\n"
     ]
    }
   ],
   "source": [
    "img1 = Image.open('C:\\\\vishal-19-11-2022\\\\images\\\\download13.jpg')\n",
    "print(img1)\n",
    "print(\" \")\n",
    "print(\"************************************************************************************************* \")\n",
    "print(\" \")\n",
    "\n",
    "text1 = pytesseract.image_to_string(img1)\n",
    "print(text1)"
   ]
  },
  {
   "cell_type": "code",
   "execution_count": 16,
   "id": "3802ee56",
   "metadata": {},
   "outputs": [
    {
     "name": "stdout",
     "output_type": "stream",
     "text": [
      "<PIL.JpegImagePlugin.JpegImageFile image mode=RGB size=265x190 at 0x1F3AFFEAE10>\n",
      " \n",
      "************************************************************************************************* \n",
      " \n",
      "‘Wo follow the same basic process ovory time\n",
      "\n",
      "+ We tt with he imetion We tt ety age ess and an\n",
      "Utena semesot ache deros bt cancel es\n",
      "[Bethe rough vermont Five yeu sam\n",
      "\n",
      "+ Tsou ee take vod of an ie cate\n",
      "{alone rd era, apt tench ata Spe\n",
      "i cometing everest\n",
      "\n",
      "+ We improve and bul a poop ht we giv fast of\n",
      "‘Sei sone ano ue tard pe un mere east\n",
      "\n",
      "+ Eventual fra ow auch yc of ha process we\n",
      "‘Sarde product eae.\n",
      "\n",
      "+ ny nie trscy to go cua erage rep fetes\n",
      "Stet none ena! Fire yous\n",
      "\n",
      "\n",
      "original text: ‘Wo follow the same basic process ovory time\n",
      "\n",
      "+ We tt with he imetion We tt ety age ess and an\n",
      "Utena semesot ache deros bt cancel es\n",
      "[Bethe rough vermont Five yeu sam\n",
      "\n",
      "+ Tsou ee take vod of an ie cate\n",
      "{alone rd era, apt tench ata Spe\n",
      "i cometing everest\n",
      "\n",
      "+ We improve and bul a poop ht we giv fast of\n",
      "‘Sei sone ano ue tard pe un mere east\n",
      "\n",
      "+ Eventual fra ow auch yc of ha process we\n",
      "‘Sarde product eae.\n",
      "\n",
      "+ ny nie trscy to go cua erage rep fetes\n",
      "Stet none ena! Fire yous\n",
      "\n",
      "\n",
      " \n",
      "***********************************************************************************************************************\n",
      " \n",
      "corrected text: ‘To follow the same basic process ivory time\n",
      "\n",
      "+ He tt with he motion He tt ety age less and an\n",
      "Ten semenov ache does it cancel es\n",
      "[The rough vermont Give you sam\n",
      "\n",
      "+ You he take god of an in came\n",
      "{alone rd era, apt teach at Ape\n",
      "i competing everett\n",
      "\n",
      "+ He improve and but a poor he we give fast of\n",
      "‘He one ano he hard pe un mere east\n",
      "\n",
      "+ Eventual far of such c of ha process we\n",
      "‘Are product eye.\n",
      "\n",
      "+ ny lie try to go cut rage rep fetes\n",
      "Met none end! Fire you\n",
      "\n",
      "\n"
     ]
    }
   ],
   "source": [
    "img1 = Image.open('C:\\\\vishal-19-11-2022\\\\images\\\\download15.jpg')\n",
    "print(img1)\n",
    "print(\" \")\n",
    "print(\"************************************************************************************************* \")\n",
    "print(\" \")\n",
    "\n",
    "text1 = pytesseract.image_to_string(img1)\n",
    "print(text1)\n",
    "\n",
    "# from textblob import TextBlob\n",
    " \n",
    "# a =  text1        # incorrect spelling\n",
    "# print(\"original text: \"+str(a))\n",
    "# print(\" \")\n",
    "# print(\"***********************************************************************************************************************\")\n",
    "# print(\" \")\n",
    " \n",
    "# b = TextBlob(a)\n",
    " \n",
    "# # prints the corrected spelling\n",
    "# print(\"corrected text: \"+str(b.correct()))"
   ]
  },
  {
   "cell_type": "code",
   "execution_count": 17,
   "id": "f45ffe73",
   "metadata": {},
   "outputs": [
    {
     "name": "stdout",
     "output_type": "stream",
     "text": [
      "<PIL.JpegImagePlugin.JpegImageFile image mode=RGB size=273x184 at 0x1F3AFFDCBD0>\n",
      " \n",
      "************************************************************************************************* \n",
      " \n",
      "Web Accessibility e-Learning\n",
      "\n",
      "Discover the main requirements of\n",
      "WCAG 2.0, Conformance Level 2 (AA) in\n",
      "a 10-module online course—in your\n",
      "own time, without leaving the\n",
      "\n",
      "convenience of your own desk\n",
      "\n"
     ]
    }
   ],
   "source": [
    "img1 = Image.open('C:\\\\vishal-19-11-2022\\\\images\\\\download16.jpg')\n",
    "print(img1)\n",
    "print(\" \")\n",
    "print(\"************************************************************************************************* \")\n",
    "print(\" \")\n",
    "\n",
    "text1 = pytesseract.image_to_string(img1)\n",
    "print(text1)"
   ]
  },
  {
   "cell_type": "code",
   "execution_count": 22,
   "id": "6735ad59",
   "metadata": {},
   "outputs": [
    {
     "name": "stdout",
     "output_type": "stream",
     "text": [
      "<PIL.PngImagePlugin.PngImageFile image mode=P size=170x296 at 0x1F3B069B710>\n",
      " \n",
      "************************************************************************************************* \n",
      " \n",
      "I watch three climb before it's my\n",
      "turn,[llit’s a tough one.jiilithe guy\n",
      "\n",
      "before me tries twice.[l He falls\n",
      "tuice.MMAfter the last one, he\n",
      "down,[lHe’s finished for the\n",
      "Tt’s my turn.\n",
      "luck!” to me.\n",
      "of = problem. (There's an\n",
      "outcrop on this one.| [It’s about\n",
      "\n",
      "halfway up the wall.[ it's not a\n",
      "\n"
     ]
    },
    {
     "ename": "TypeError",
     "evalue": "Can't convert object to 'str' for 'filename'",
     "output_type": "error",
     "traceback": [
      "\u001b[1;31m---------------------------------------------------------------------------\u001b[0m",
      "\u001b[1;31mTypeError\u001b[0m                                 Traceback (most recent call last)",
      "Cell \u001b[1;32mIn [22], line 13\u001b[0m\n\u001b[0;32m     10\u001b[0m text1 \u001b[39m=\u001b[39m pytesseract\u001b[39m.\u001b[39mimage_to_string(img1)\n\u001b[0;32m     11\u001b[0m \u001b[39mprint\u001b[39m(text1)\n\u001b[1;32m---> 13\u001b[0m img \u001b[39m=\u001b[39m cv2\u001b[39m.\u001b[39;49mimread(img1)\n\u001b[0;32m     14\u001b[0m plt\u001b[39m.\u001b[39mimshow(cv2\u001b[39m.\u001b[39mcvtColor(img, cv2\u001b[39m.\u001b[39mCOLOR_BGR2RGB))\n\u001b[0;32m     16\u001b[0m \u001b[39mfrom\u001b[39;00m \u001b[39mtextblob\u001b[39;00m \u001b[39mimport\u001b[39;00m TextBlob\n",
      "\u001b[1;31mTypeError\u001b[0m: Can't convert object to 'str' for 'filename'"
     ]
    }
   ],
   "source": [
    "import matplotlib as plt\n",
    "import cv2\n",
    "\n",
    "img1 = Image.open('C:\\\\vishal-19-11-2022\\\\images\\\\download18.jpg')\n",
    "print(img1)\n",
    "print(\" \")\n",
    "print(\"************************************************************************************************* \")\n",
    "print(\" \")\n",
    "\n",
    "text1 = pytesseract.image_to_string(img1)\n",
    "print(text1)\n",
    "\n",
    "img = cv2.imread(img1)\n",
    "plt.imshow(cv2.cvtColor(img, cv2.COLOR_BGR2RGB))\n",
    "\n",
    "from textblob import TextBlob\n",
    " \n",
    "a =  text1   # incorrect spelling\n",
    "print(\"original text: \"+str(a))\n",
    "print(\" \")\n",
    "print(\"***********************************************************************************************************************\")\n",
    "print(\" \")\n",
    " \n",
    "b = TextBlob(a)\n",
    " \n",
    "# prints the corrected spelling\n",
    "print(\"corrected text: \"+str(b.correct()))\n",
    "\n",
    "\n"
   ]
  },
  {
   "cell_type": "code",
   "execution_count": 31,
   "id": "e7f58d31",
   "metadata": {},
   "outputs": [
    {
     "name": "stdout",
     "output_type": "stream",
     "text": [
      "download10.jpg\n",
      "download11.jpg\n",
      "download12.jpg\n",
      "download13.jpg\n",
      "download14.jpg\n",
      "download15.jpg\n",
      "download16.jpg\n",
      "download17.jpg\n",
      "download18.jpg\n",
      "Empty DataFrame\n",
      "Columns: [file_Name, Text]\n",
      "Index: []\n"
     ]
    }
   ],
   "source": [
    "from PIL import Image\n",
    "import pytesseract\n",
    "import os\n",
    "import pandas as pd\n",
    "\n",
    "# Path is given for for 64 bit installer\n",
    "pytesseract.pytesseract.tesseract_cmd = \"C:/Program Files/Tesseract-OCR/tesseract.exe\"\n",
    "\n",
    "f = []\n",
    "t = []\n",
    "input_dir = r'E:\\images'\n",
    "\n",
    "for root, dirs, filenames in os.walk(input_dir):\n",
    "    for filename in filenames:\n",
    "        try:\n",
    "            print(filename)\n",
    "            f.append(filename)\n",
    "            img = Image.open(input_dir+ filename)\n",
    "            print(img)\n",
    "            text = pytesseract.image_to_string(img, lang = 'eng')\n",
    "            t.append(text)\n",
    "            print(text)\n",
    "            print('-='*20)\n",
    "        except:\n",
    "            continue\n",
    "\n",
    "\n",
    "df = pd.DataFrame(list(zip(f, t)),columns=['file_Name','Text'])\n",
    "print(df)"
   ]
  },
  {
   "cell_type": "code",
   "execution_count": null,
   "id": "d26e6b8a",
   "metadata": {},
   "outputs": [],
   "source": []
  }
 ],
 "metadata": {
  "kernelspec": {
   "display_name": "Python 3.11.0 64-bit",
   "language": "python",
   "name": "python3"
  },
  "language_info": {
   "codemirror_mode": {
    "name": "ipython",
    "version": 3
   },
   "file_extension": ".py",
   "mimetype": "text/x-python",
   "name": "python",
   "nbconvert_exporter": "python",
   "pygments_lexer": "ipython3",
   "version": "3.11.0"
  },
  "vscode": {
   "interpreter": {
    "hash": "86f12212150e3dbb89b77975c0b28b645711b39d5bbbf8067a66715f8b47027a"
   }
  }
 },
 "nbformat": 4,
 "nbformat_minor": 5
}
